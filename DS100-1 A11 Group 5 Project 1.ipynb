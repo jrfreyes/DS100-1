{
 "cells": [
  {
   "cell_type": "markdown",
   "metadata": {},
   "source": [
    "# DS100-1 (Applied Data Science)\n",
    "## Project 1 \n",
    "### Dominican Republic and Italy  \n",
    "\n",
    "## Section: A11 \n",
    "## Group: 5 \n",
    "## Members:\n",
    "- ALDAY, Kraemon Joshua\n",
    "- GARCIA, Enrico Joaquin\n",
    "- QUITELES, Sean Argie\n",
    "- REYES, Justin Rupert"
   ]
  },
  {
   "cell_type": "markdown",
   "metadata": {},
   "source": [
    "## Directions\n",
    "Once you have collected the data of your preferred locations, submit a Jupyter Notebook file (.ipynb) that contains the data you have collected. Use Numpy and Pandas library to import, clean, and process your data.\n",
    "\n",
    "Your Jupyter Notebook should contain the following and will be scored accordingly:\n",
    "\n",
    "1. Numpy library (1 point)\n",
    "\n",
    "2. Pandas library (1 point)\n",
    "\n",
    "3. Display of the tabulated data of your 2 locations (1 point)\n",
    "\n",
    "4. The data should contain the total number of confirmed cases, recoveries, and fatalities per day from March to August 2020 only (3 points)\n",
    "\n",
    "5. Then, add a column in your tabulated data the difference of total confirmed cases, recoveries, and fatalities for your 2 locations (1 point)\n",
    "\n",
    "6. Add also another column in your tabulated data the difference in the active cases (which is the net value of your total confirmed cases, recoveries, and fatalities) for the two locations (1 point)\n",
    "\n",
    "7. Indicate in your Jupyter Notebook the URLs of the source for your data (2 points)\n",
    "\n",
    "8. Include also a brief description of the contributions of your fellow group members (10 points) Note: No contribution of any group member will receive zero (0) point."
   ]
  },
  {
   "cell_type": "markdown",
   "metadata": {},
   "source": [
    "## Library Imports"
   ]
  },
  {
   "cell_type": "code",
   "execution_count": 8,
   "metadata": {},
   "outputs": [],
   "source": [
    "import numpy as np\n",
    "import pandas as pd"
   ]
  },
  {
   "cell_type": "markdown",
   "metadata": {},
   "source": [
    "## Data Cleaning Function \n",
    "Since the dataset is cumulative, the daily changes are obtained using `df.diff(axis=1)`"
   ]
  },
  {
   "cell_type": "code",
   "execution_count": 9,
   "metadata": {},
   "outputs": [],
   "source": [
    "def clean_data(csv_file: str) -> pd.DataFrame:\n",
    "    \"\"\"Returns clean data for Italy and the Dominican Republic for June to August 2020\"\"\"\n",
    "    return (pd.read_csv(csv_file)\n",
    "              .rename({\"Country/Region\": \"Country\"}, axis=1) \n",
    "              .query('`Country` == \"Italy\" or `Country` == \"Dominican Republic\"')\n",
    "              .set_index('Country')\n",
    "              .diff(axis=1) # Get the differences between raws to get the daily changes\n",
    "                            # Remove this line to get cumulative\n",
    "              .loc[:,'6/1/20':'8/31/20'] # Slice the DataFrame to include only entries from Jun to Aug\n",
    "              .T) # Transposes the DataFrame to have the dates as index"
   ]
  },
  {
   "cell_type": "markdown",
   "metadata": {},
   "source": [
    "## Applying the Data Cleaning Function to the `csv` files from `github`"
   ]
  },
  {
   "cell_type": "code",
   "execution_count": 10,
   "metadata": {},
   "outputs": [
    {
     "output_type": "execute_result",
     "data": {
      "text/plain": "Country  Dominican Republic   Italy\n6/1/20                287.0   200.0\n6/2/20                180.0   318.0\n6/3/20                288.0   321.0\n6/4/20                279.0   177.0\n6/5/20                389.0   518.0\n...                     ...     ...\n8/27/20               407.0  1409.0\n8/28/20               426.0  1460.0\n8/29/20               342.0  1444.0\n8/30/20               509.0  1365.0\n8/31/20               474.0   996.0\n\n[92 rows x 2 columns]",
      "text/html": "<div>\n<style scoped>\n    .dataframe tbody tr th:only-of-type {\n        vertical-align: middle;\n    }\n\n    .dataframe tbody tr th {\n        vertical-align: top;\n    }\n\n    .dataframe thead th {\n        text-align: right;\n    }\n</style>\n<table border=\"1\" class=\"dataframe\">\n  <thead>\n    <tr style=\"text-align: right;\">\n      <th>Country</th>\n      <th>Dominican Republic</th>\n      <th>Italy</th>\n    </tr>\n  </thead>\n  <tbody>\n    <tr>\n      <th>6/1/20</th>\n      <td>287.0</td>\n      <td>200.0</td>\n    </tr>\n    <tr>\n      <th>6/2/20</th>\n      <td>180.0</td>\n      <td>318.0</td>\n    </tr>\n    <tr>\n      <th>6/3/20</th>\n      <td>288.0</td>\n      <td>321.0</td>\n    </tr>\n    <tr>\n      <th>6/4/20</th>\n      <td>279.0</td>\n      <td>177.0</td>\n    </tr>\n    <tr>\n      <th>6/5/20</th>\n      <td>389.0</td>\n      <td>518.0</td>\n    </tr>\n    <tr>\n      <th>...</th>\n      <td>...</td>\n      <td>...</td>\n    </tr>\n    <tr>\n      <th>8/27/20</th>\n      <td>407.0</td>\n      <td>1409.0</td>\n    </tr>\n    <tr>\n      <th>8/28/20</th>\n      <td>426.0</td>\n      <td>1460.0</td>\n    </tr>\n    <tr>\n      <th>8/29/20</th>\n      <td>342.0</td>\n      <td>1444.0</td>\n    </tr>\n    <tr>\n      <th>8/30/20</th>\n      <td>509.0</td>\n      <td>1365.0</td>\n    </tr>\n    <tr>\n      <th>8/31/20</th>\n      <td>474.0</td>\n      <td>996.0</td>\n    </tr>\n  </tbody>\n</table>\n<p>92 rows × 2 columns</p>\n</div>"
     },
     "metadata": {},
     "execution_count": 10
    }
   ],
   "source": [
    "cases_csv = 'https://github.com/CSSEGISandData/COVID-19/raw/master/csse_covid_19_data/csse_covid_19_time_series/time_series_covid19_confirmed_global.csv'\n",
    "Cases = clean_data(cases_csv)\n",
    "Cases"
   ]
  },
  {
   "cell_type": "code",
   "execution_count": 11,
   "metadata": {},
   "outputs": [
    {
     "output_type": "execute_result",
     "data": {
      "text/plain": "Country  Dominican Republic   Italy\n6/1/20                334.0   848.0\n6/2/20                182.0  1737.0\n6/3/20                149.0   846.0\n6/4/20                250.0   957.0\n6/5/20                262.0  1886.0\n...                     ...     ...\n8/27/20               869.0   225.0\n8/28/20               938.0   348.0\n8/29/20              1035.0  1322.0\n8/30/20               456.0   312.0\n8/31/20              1306.0  -883.0\n\n[92 rows x 2 columns]",
      "text/html": "<div>\n<style scoped>\n    .dataframe tbody tr th:only-of-type {\n        vertical-align: middle;\n    }\n\n    .dataframe tbody tr th {\n        vertical-align: top;\n    }\n\n    .dataframe thead th {\n        text-align: right;\n    }\n</style>\n<table border=\"1\" class=\"dataframe\">\n  <thead>\n    <tr style=\"text-align: right;\">\n      <th>Country</th>\n      <th>Dominican Republic</th>\n      <th>Italy</th>\n    </tr>\n  </thead>\n  <tbody>\n    <tr>\n      <th>6/1/20</th>\n      <td>334.0</td>\n      <td>848.0</td>\n    </tr>\n    <tr>\n      <th>6/2/20</th>\n      <td>182.0</td>\n      <td>1737.0</td>\n    </tr>\n    <tr>\n      <th>6/3/20</th>\n      <td>149.0</td>\n      <td>846.0</td>\n    </tr>\n    <tr>\n      <th>6/4/20</th>\n      <td>250.0</td>\n      <td>957.0</td>\n    </tr>\n    <tr>\n      <th>6/5/20</th>\n      <td>262.0</td>\n      <td>1886.0</td>\n    </tr>\n    <tr>\n      <th>...</th>\n      <td>...</td>\n      <td>...</td>\n    </tr>\n    <tr>\n      <th>8/27/20</th>\n      <td>869.0</td>\n      <td>225.0</td>\n    </tr>\n    <tr>\n      <th>8/28/20</th>\n      <td>938.0</td>\n      <td>348.0</td>\n    </tr>\n    <tr>\n      <th>8/29/20</th>\n      <td>1035.0</td>\n      <td>1322.0</td>\n    </tr>\n    <tr>\n      <th>8/30/20</th>\n      <td>456.0</td>\n      <td>312.0</td>\n    </tr>\n    <tr>\n      <th>8/31/20</th>\n      <td>1306.0</td>\n      <td>-883.0</td>\n    </tr>\n  </tbody>\n</table>\n<p>92 rows × 2 columns</p>\n</div>"
     },
     "metadata": {},
     "execution_count": 11
    }
   ],
   "source": [
    "recovered_csv = 'https://raw.githubusercontent.com/CSSEGISandData/COVID-19/master/csse_covid_19_data/csse_covid_19_time_series/time_series_covid19_recovered_global.csv'\n",
    "Recovered = clean_data(recovered_csv)\n",
    "Recovered"
   ]
  },
  {
   "cell_type": "code",
   "execution_count": 12,
   "metadata": {},
   "outputs": [
    {
     "output_type": "execute_result",
     "data": {
      "text/plain": "Country  Dominican Republic  Italy\n6/1/20                  0.0   60.0\n6/2/20                 13.0   55.0\n6/3/20                  1.0   71.0\n6/4/20                  4.0   88.0\n6/5/20                  5.0   85.0\n...                     ...    ...\n8/27/20                17.0    5.0\n8/28/20                18.0    9.0\n8/29/20                25.0    1.0\n8/30/20                 8.0    4.0\n8/31/20                29.0    6.0\n\n[92 rows x 2 columns]",
      "text/html": "<div>\n<style scoped>\n    .dataframe tbody tr th:only-of-type {\n        vertical-align: middle;\n    }\n\n    .dataframe tbody tr th {\n        vertical-align: top;\n    }\n\n    .dataframe thead th {\n        text-align: right;\n    }\n</style>\n<table border=\"1\" class=\"dataframe\">\n  <thead>\n    <tr style=\"text-align: right;\">\n      <th>Country</th>\n      <th>Dominican Republic</th>\n      <th>Italy</th>\n    </tr>\n  </thead>\n  <tbody>\n    <tr>\n      <th>6/1/20</th>\n      <td>0.0</td>\n      <td>60.0</td>\n    </tr>\n    <tr>\n      <th>6/2/20</th>\n      <td>13.0</td>\n      <td>55.0</td>\n    </tr>\n    <tr>\n      <th>6/3/20</th>\n      <td>1.0</td>\n      <td>71.0</td>\n    </tr>\n    <tr>\n      <th>6/4/20</th>\n      <td>4.0</td>\n      <td>88.0</td>\n    </tr>\n    <tr>\n      <th>6/5/20</th>\n      <td>5.0</td>\n      <td>85.0</td>\n    </tr>\n    <tr>\n      <th>...</th>\n      <td>...</td>\n      <td>...</td>\n    </tr>\n    <tr>\n      <th>8/27/20</th>\n      <td>17.0</td>\n      <td>5.0</td>\n    </tr>\n    <tr>\n      <th>8/28/20</th>\n      <td>18.0</td>\n      <td>9.0</td>\n    </tr>\n    <tr>\n      <th>8/29/20</th>\n      <td>25.0</td>\n      <td>1.0</td>\n    </tr>\n    <tr>\n      <th>8/30/20</th>\n      <td>8.0</td>\n      <td>4.0</td>\n    </tr>\n    <tr>\n      <th>8/31/20</th>\n      <td>29.0</td>\n      <td>6.0</td>\n    </tr>\n  </tbody>\n</table>\n<p>92 rows × 2 columns</p>\n</div>"
     },
     "metadata": {},
     "execution_count": 12
    }
   ],
   "source": [
    "deaths_csv = 'https://github.com/CSSEGISandData/COVID-19/raw/master/csse_covid_19_data/csse_covid_19_time_series/time_series_covid19_deaths_global.csv'\n",
    "Deaths = clean_data(deaths_csv)\n",
    "Deaths"
   ]
  },
  {
   "cell_type": "markdown",
   "metadata": {},
   "source": [
    "## Getting the Differences\n",
    "\\begin{equation}Diff = Dominican  Republic - Italy\\end{equation}"
   ]
  },
  {
   "cell_type": "code",
   "execution_count": 13,
   "metadata": {},
   "outputs": [
    {
     "output_type": "execute_result",
     "data": {
      "text/plain": "{'Cases': Country  Dominican Republic   Italy    Diff\n 6/1/20                287.0   200.0    87.0\n 6/2/20                180.0   318.0  -138.0\n 6/3/20                288.0   321.0   -33.0\n 6/4/20                279.0   177.0   102.0\n 6/5/20                389.0   518.0  -129.0\n ...                     ...     ...     ...\n 8/27/20               407.0  1409.0 -1002.0\n 8/28/20               426.0  1460.0 -1034.0\n 8/29/20               342.0  1444.0 -1102.0\n 8/30/20               509.0  1365.0  -856.0\n 8/31/20               474.0   996.0  -522.0\n \n [92 rows x 3 columns],\n 'Recovered': Country  Dominican Republic   Italy    Diff\n 6/1/20                334.0   848.0  -514.0\n 6/2/20                182.0  1737.0 -1555.0\n 6/3/20                149.0   846.0  -697.0\n 6/4/20                250.0   957.0  -707.0\n 6/5/20                262.0  1886.0 -1624.0\n ...                     ...     ...     ...\n 8/27/20               869.0   225.0   644.0\n 8/28/20               938.0   348.0   590.0\n 8/29/20              1035.0  1322.0  -287.0\n 8/30/20               456.0   312.0   144.0\n 8/31/20              1306.0  -883.0  2189.0\n \n [92 rows x 3 columns],\n 'Deaths': Country  Dominican Republic  Italy  Diff\n 6/1/20                  0.0   60.0 -60.0\n 6/2/20                 13.0   55.0 -42.0\n 6/3/20                  1.0   71.0 -70.0\n 6/4/20                  4.0   88.0 -84.0\n 6/5/20                  5.0   85.0 -80.0\n ...                     ...    ...   ...\n 8/27/20                17.0    5.0  12.0\n 8/28/20                18.0    9.0   9.0\n 8/29/20                25.0    1.0  24.0\n 8/30/20                 8.0    4.0   4.0\n 8/31/20                29.0    6.0  23.0\n \n [92 rows x 3 columns]}"
     },
     "metadata": {},
     "execution_count": 13
    }
   ],
   "source": [
    "joint = {'Cases': Cases, 'Recovered': Recovered, 'Deaths': Deaths}\n",
    "for key in joint.keys():\n",
    "    item = joint[key]\n",
    "    item['Diff'] = item['Dominican Republic'] - item['Italy'] \n",
    "joint"
   ]
  },
  {
   "cell_type": "markdown",
   "metadata": {},
   "source": [
    "## Merged Table with Active Cases\n",
    "\\begin{equation}Active Cases = Cases - Deaths - Recovered\\end{equation}"
   ]
  },
  {
   "cell_type": "code",
   "execution_count": 14,
   "metadata": {
    "scrolled": true
   },
   "outputs": [
    {
     "output_type": "execute_result",
     "data": {
      "text/plain": "                     Cases                          Recovered                  \\\nCountry Dominican Republic   Italy    Diff Dominican Republic   Italy    Diff   \n6/1/20               287.0   200.0    87.0              334.0   848.0  -514.0   \n6/2/20               180.0   318.0  -138.0              182.0  1737.0 -1555.0   \n6/3/20               288.0   321.0   -33.0              149.0   846.0  -697.0   \n6/4/20               279.0   177.0   102.0              250.0   957.0  -707.0   \n6/5/20               389.0   518.0  -129.0              262.0  1886.0 -1624.0   \n...                    ...     ...     ...                ...     ...     ...   \n8/27/20              407.0  1409.0 -1002.0              869.0   225.0   644.0   \n8/28/20              426.0  1460.0 -1034.0              938.0   348.0   590.0   \n8/29/20              342.0  1444.0 -1102.0             1035.0  1322.0  -287.0   \n8/30/20              509.0  1365.0  -856.0              456.0   312.0   144.0   \n8/31/20              474.0   996.0  -522.0             1306.0  -883.0  2189.0   \n\n                    Deaths                   Active Cases                  \nCountry Dominican Republic Italy  Diff Dominican Republic   Italy    Diff  \n6/1/20                 0.0  60.0 -60.0              -47.0  -708.0   661.0  \n6/2/20                13.0  55.0 -42.0              -15.0 -1474.0  1459.0  \n6/3/20                 1.0  71.0 -70.0              138.0  -596.0   734.0  \n6/4/20                 4.0  88.0 -84.0               25.0  -868.0   893.0  \n6/5/20                 5.0  85.0 -80.0              122.0 -1453.0  1575.0  \n...                    ...   ...   ...                ...     ...     ...  \n8/27/20               17.0   5.0  12.0             -479.0  1179.0 -1658.0  \n8/28/20               18.0   9.0   9.0             -530.0  1103.0 -1633.0  \n8/29/20               25.0   1.0  24.0             -718.0   121.0  -839.0  \n8/30/20                8.0   4.0   4.0               45.0  1049.0 -1004.0  \n8/31/20               29.0   6.0  23.0             -861.0  1873.0 -2734.0  \n\n[92 rows x 12 columns]",
      "text/html": "<div>\n<style scoped>\n    .dataframe tbody tr th:only-of-type {\n        vertical-align: middle;\n    }\n\n    .dataframe tbody tr th {\n        vertical-align: top;\n    }\n\n    .dataframe thead tr th {\n        text-align: left;\n    }\n</style>\n<table border=\"1\" class=\"dataframe\">\n  <thead>\n    <tr>\n      <th></th>\n      <th colspan=\"3\" halign=\"left\">Cases</th>\n      <th colspan=\"3\" halign=\"left\">Recovered</th>\n      <th colspan=\"3\" halign=\"left\">Deaths</th>\n      <th colspan=\"3\" halign=\"left\">Active Cases</th>\n    </tr>\n    <tr>\n      <th>Country</th>\n      <th>Dominican Republic</th>\n      <th>Italy</th>\n      <th>Diff</th>\n      <th>Dominican Republic</th>\n      <th>Italy</th>\n      <th>Diff</th>\n      <th>Dominican Republic</th>\n      <th>Italy</th>\n      <th>Diff</th>\n      <th>Dominican Republic</th>\n      <th>Italy</th>\n      <th>Diff</th>\n    </tr>\n  </thead>\n  <tbody>\n    <tr>\n      <th>6/1/20</th>\n      <td>287.0</td>\n      <td>200.0</td>\n      <td>87.0</td>\n      <td>334.0</td>\n      <td>848.0</td>\n      <td>-514.0</td>\n      <td>0.0</td>\n      <td>60.0</td>\n      <td>-60.0</td>\n      <td>-47.0</td>\n      <td>-708.0</td>\n      <td>661.0</td>\n    </tr>\n    <tr>\n      <th>6/2/20</th>\n      <td>180.0</td>\n      <td>318.0</td>\n      <td>-138.0</td>\n      <td>182.0</td>\n      <td>1737.0</td>\n      <td>-1555.0</td>\n      <td>13.0</td>\n      <td>55.0</td>\n      <td>-42.0</td>\n      <td>-15.0</td>\n      <td>-1474.0</td>\n      <td>1459.0</td>\n    </tr>\n    <tr>\n      <th>6/3/20</th>\n      <td>288.0</td>\n      <td>321.0</td>\n      <td>-33.0</td>\n      <td>149.0</td>\n      <td>846.0</td>\n      <td>-697.0</td>\n      <td>1.0</td>\n      <td>71.0</td>\n      <td>-70.0</td>\n      <td>138.0</td>\n      <td>-596.0</td>\n      <td>734.0</td>\n    </tr>\n    <tr>\n      <th>6/4/20</th>\n      <td>279.0</td>\n      <td>177.0</td>\n      <td>102.0</td>\n      <td>250.0</td>\n      <td>957.0</td>\n      <td>-707.0</td>\n      <td>4.0</td>\n      <td>88.0</td>\n      <td>-84.0</td>\n      <td>25.0</td>\n      <td>-868.0</td>\n      <td>893.0</td>\n    </tr>\n    <tr>\n      <th>6/5/20</th>\n      <td>389.0</td>\n      <td>518.0</td>\n      <td>-129.0</td>\n      <td>262.0</td>\n      <td>1886.0</td>\n      <td>-1624.0</td>\n      <td>5.0</td>\n      <td>85.0</td>\n      <td>-80.0</td>\n      <td>122.0</td>\n      <td>-1453.0</td>\n      <td>1575.0</td>\n    </tr>\n    <tr>\n      <th>...</th>\n      <td>...</td>\n      <td>...</td>\n      <td>...</td>\n      <td>...</td>\n      <td>...</td>\n      <td>...</td>\n      <td>...</td>\n      <td>...</td>\n      <td>...</td>\n      <td>...</td>\n      <td>...</td>\n      <td>...</td>\n    </tr>\n    <tr>\n      <th>8/27/20</th>\n      <td>407.0</td>\n      <td>1409.0</td>\n      <td>-1002.0</td>\n      <td>869.0</td>\n      <td>225.0</td>\n      <td>644.0</td>\n      <td>17.0</td>\n      <td>5.0</td>\n      <td>12.0</td>\n      <td>-479.0</td>\n      <td>1179.0</td>\n      <td>-1658.0</td>\n    </tr>\n    <tr>\n      <th>8/28/20</th>\n      <td>426.0</td>\n      <td>1460.0</td>\n      <td>-1034.0</td>\n      <td>938.0</td>\n      <td>348.0</td>\n      <td>590.0</td>\n      <td>18.0</td>\n      <td>9.0</td>\n      <td>9.0</td>\n      <td>-530.0</td>\n      <td>1103.0</td>\n      <td>-1633.0</td>\n    </tr>\n    <tr>\n      <th>8/29/20</th>\n      <td>342.0</td>\n      <td>1444.0</td>\n      <td>-1102.0</td>\n      <td>1035.0</td>\n      <td>1322.0</td>\n      <td>-287.0</td>\n      <td>25.0</td>\n      <td>1.0</td>\n      <td>24.0</td>\n      <td>-718.0</td>\n      <td>121.0</td>\n      <td>-839.0</td>\n    </tr>\n    <tr>\n      <th>8/30/20</th>\n      <td>509.0</td>\n      <td>1365.0</td>\n      <td>-856.0</td>\n      <td>456.0</td>\n      <td>312.0</td>\n      <td>144.0</td>\n      <td>8.0</td>\n      <td>4.0</td>\n      <td>4.0</td>\n      <td>45.0</td>\n      <td>1049.0</td>\n      <td>-1004.0</td>\n    </tr>\n    <tr>\n      <th>8/31/20</th>\n      <td>474.0</td>\n      <td>996.0</td>\n      <td>-522.0</td>\n      <td>1306.0</td>\n      <td>-883.0</td>\n      <td>2189.0</td>\n      <td>29.0</td>\n      <td>6.0</td>\n      <td>23.0</td>\n      <td>-861.0</td>\n      <td>1873.0</td>\n      <td>-2734.0</td>\n    </tr>\n  </tbody>\n</table>\n<p>92 rows × 12 columns</p>\n</div>"
     },
     "metadata": {},
     "execution_count": 14
    }
   ],
   "source": [
    "joint = pd.concat(joint, axis=1)\n",
    "\n",
    "\n",
    "for s in ['Dominican Republic', 'Italy', 'Diff']:\n",
    "    joint[('Active Cases', s)] = joint[('Cases', s)] - joint[('Deaths', s)] - joint[('Recovered', s)]\n",
    "joint"
   ]
  },
  {
   "cell_type": "markdown",
   "metadata": {},
   "source": [
    "## Sources\n",
    "COVID-19 Data Repository by the Center for Systems Science and Engineering (CSSE) at Johns Hopkins University<br>\n",
    "- https://github.com/CSSEGISandData/COVID-19/blob/master/csse_covid_19_data/csse_covid_19_time_series/time_series_covid19_confirmed_global.csv\n",
    "- https://github.com/CSSEGISandData/COVID-19/blob/master/csse_covid_19_data/csse_covid_19_time_series/time_series_covid19_recovered_global.csv\n",
    "- https://github.com/CSSEGISandData/COVID-19/blob/master/csse_covid_19_data/csse_covid_19_time_series/time_series_covid19_deaths_global.csv\n"
   ]
  },
  {
   "cell_type": "markdown",
   "metadata": {},
   "source": [
    "## Contributions\n",
    "- ALDAY, Kraemon Joshua - Differences<br>\n",
    "- GARCIA, Enrico Joaquin - Active Cases<br>\n",
    "- QUITELES, Sean Argie - Cases, Recovered<br>\n",
    "- REYES, Justin Rupert - clean_data(csv_file) function"
   ]
  }
 ],
 "metadata": {
  "kernelspec": {
   "display_name": "Python 3.7.6 64-bit ('base': conda)",
   "language": "python",
   "name": "python_defaultSpec_1599620376487"
  },
  "language_info": {
   "codemirror_mode": {
    "name": "ipython",
    "version": 3
   },
   "file_extension": ".py",
   "mimetype": "text/x-python",
   "name": "python",
   "nbconvert_exporter": "python",
   "pygments_lexer": "ipython3",
   "version": "3.7.6-final"
  }
 },
 "nbformat": 4,
 "nbformat_minor": 4
}