{
 "cells": [
  {
   "cell_type": "markdown",
   "metadata": {},
   "source": [
    "# Group 5 - Project 1: Dominican Republic and Italy  "
   ]
  },
  {
   "cell_type": "markdown",
   "metadata": {},
   "source": [
    "## Directions\n",
    "Once you have collected the data of your preferred locations, submit a Jupyter Notebook file (.ipynb) that contains the data you have collected. Use Numpy and Pandas library to import, clean, and process your data.\n",
    "\n",
    "Your Jupyter Notebook should contain the following and will be scored accordingly:\n",
    "\n",
    "1. Numpy library (1 point)\n",
    "\n",
    "2. Pandas library (1 point)\n",
    "\n",
    "3. Display of the tabulated data of your 2 locations (1 point)\n",
    "\n",
    "4. The data should contain the total number of confirmed cases, recoveries, and fatalities per day from March to August 2020 only (3 points)\n",
    "\n",
    "5. Then, add a column in your tabulated data the difference of total confirmed cases, recoveries, and fatalities for your 2 locations (1 point)\n",
    "\n",
    "6. Add also another column in your tabulated data the difference in the active cases (which is the net value of your total confirmed cases, recoveries, and fatalities) for the two locations (1 point)\n",
    "\n",
    "7. Indicate in your Jupyter Notebook the URLs of the source for your data (2 points)\n",
    "\n",
    "8. Include also a brief description of the contributions of your fellow group members (10 points) Note: No contribution of any group member will receive zero (0) point."
   ]
  },
  {
   "cell_type": "markdown",
   "metadata": {},
   "source": [
    "## Library Imports"
   ]
  },
  {
   "cell_type": "code",
   "execution_count": 8,
   "metadata": {},
   "outputs": [],
   "source": [
    "import numpy as np\n",
    "import pandas as pd"
   ]
  },
  {
   "cell_type": "markdown",
   "metadata": {},
   "source": [
    "## Data Cleaning Function "
   ]
  },
  {
   "cell_type": "code",
   "execution_count": 9,
   "metadata": {},
   "outputs": [],
   "source": [
    "def clean_data(csv_file: str) -> pd.DataFrame:\n",
    "    \"\"\"Returns clean data for Italy and the Dominican Republic for June to August 2020\"\"\"\n",
    "    return (pd.read_csv(csv_file)\n",
    "              .rename({\"Country/Region\": \"Country\"}, axis=1) \n",
    "              .query('`Country` == \"Italy\" or `Country` == \"Dominican Republic\"')\n",
    "              .set_index('Country')\n",
    "              .loc[:,'6/1/20':'8/31/20']\n",
    "              .T)"
   ]
  },
  {
   "cell_type": "markdown",
   "metadata": {},
   "source": [
    "## Applying the Data Cleaning Function to the `csv` files from `github`"
   ]
  },
  {
   "cell_type": "code",
   "execution_count": 10,
   "metadata": {},
   "outputs": [
    {
     "output_type": "execute_result",
     "data": {
      "text/plain": "Country  Dominican Republic   Italy\n6/1/20                17572  233197\n6/2/20                17752  233515\n6/3/20                18040  233836\n6/4/20                18319  234013\n6/5/20                18708  234531\n...                     ...     ...\n8/27/20               92964  263949\n8/28/20               93390  265409\n8/29/20               93732  266853\n8/30/20               94241  268218\n8/31/20               94715  269214\n\n[92 rows x 2 columns]",
      "text/html": "<div>\n<style scoped>\n    .dataframe tbody tr th:only-of-type {\n        vertical-align: middle;\n    }\n\n    .dataframe tbody tr th {\n        vertical-align: top;\n    }\n\n    .dataframe thead th {\n        text-align: right;\n    }\n</style>\n<table border=\"1\" class=\"dataframe\">\n  <thead>\n    <tr style=\"text-align: right;\">\n      <th>Country</th>\n      <th>Dominican Republic</th>\n      <th>Italy</th>\n    </tr>\n  </thead>\n  <tbody>\n    <tr>\n      <th>6/1/20</th>\n      <td>17572</td>\n      <td>233197</td>\n    </tr>\n    <tr>\n      <th>6/2/20</th>\n      <td>17752</td>\n      <td>233515</td>\n    </tr>\n    <tr>\n      <th>6/3/20</th>\n      <td>18040</td>\n      <td>233836</td>\n    </tr>\n    <tr>\n      <th>6/4/20</th>\n      <td>18319</td>\n      <td>234013</td>\n    </tr>\n    <tr>\n      <th>6/5/20</th>\n      <td>18708</td>\n      <td>234531</td>\n    </tr>\n    <tr>\n      <th>...</th>\n      <td>...</td>\n      <td>...</td>\n    </tr>\n    <tr>\n      <th>8/27/20</th>\n      <td>92964</td>\n      <td>263949</td>\n    </tr>\n    <tr>\n      <th>8/28/20</th>\n      <td>93390</td>\n      <td>265409</td>\n    </tr>\n    <tr>\n      <th>8/29/20</th>\n      <td>93732</td>\n      <td>266853</td>\n    </tr>\n    <tr>\n      <th>8/30/20</th>\n      <td>94241</td>\n      <td>268218</td>\n    </tr>\n    <tr>\n      <th>8/31/20</th>\n      <td>94715</td>\n      <td>269214</td>\n    </tr>\n  </tbody>\n</table>\n<p>92 rows × 2 columns</p>\n</div>"
     },
     "metadata": {},
     "execution_count": 10
    }
   ],
   "source": [
    "cases_csv = 'https://github.com/CSSEGISandData/COVID-19/raw/master/csse_covid_19_data/csse_covid_19_time_series/time_series_covid19_confirmed_global.csv'\n",
    "Cases = clean_data(cases_csv)\n",
    "Cases"
   ]
  },
  {
   "cell_type": "code",
   "execution_count": 11,
   "metadata": {},
   "outputs": [
    {
     "output_type": "execute_result",
     "data": {
      "text/plain": "Country  Dominican Republic   Italy\n6/1/20                10893  158355\n6/2/20                11075  160092\n6/3/20                11224  160938\n6/4/20                11474  161895\n6/5/20                11736  163781\n...                     ...     ...\n8/27/20               64347  206554\n8/28/20               65285  206902\n8/29/20               66320  208224\n8/30/20               66776  208536\n8/31/20               68082  207653\n\n[92 rows x 2 columns]",
      "text/html": "<div>\n<style scoped>\n    .dataframe tbody tr th:only-of-type {\n        vertical-align: middle;\n    }\n\n    .dataframe tbody tr th {\n        vertical-align: top;\n    }\n\n    .dataframe thead th {\n        text-align: right;\n    }\n</style>\n<table border=\"1\" class=\"dataframe\">\n  <thead>\n    <tr style=\"text-align: right;\">\n      <th>Country</th>\n      <th>Dominican Republic</th>\n      <th>Italy</th>\n    </tr>\n  </thead>\n  <tbody>\n    <tr>\n      <th>6/1/20</th>\n      <td>10893</td>\n      <td>158355</td>\n    </tr>\n    <tr>\n      <th>6/2/20</th>\n      <td>11075</td>\n      <td>160092</td>\n    </tr>\n    <tr>\n      <th>6/3/20</th>\n      <td>11224</td>\n      <td>160938</td>\n    </tr>\n    <tr>\n      <th>6/4/20</th>\n      <td>11474</td>\n      <td>161895</td>\n    </tr>\n    <tr>\n      <th>6/5/20</th>\n      <td>11736</td>\n      <td>163781</td>\n    </tr>\n    <tr>\n      <th>...</th>\n      <td>...</td>\n      <td>...</td>\n    </tr>\n    <tr>\n      <th>8/27/20</th>\n      <td>64347</td>\n      <td>206554</td>\n    </tr>\n    <tr>\n      <th>8/28/20</th>\n      <td>65285</td>\n      <td>206902</td>\n    </tr>\n    <tr>\n      <th>8/29/20</th>\n      <td>66320</td>\n      <td>208224</td>\n    </tr>\n    <tr>\n      <th>8/30/20</th>\n      <td>66776</td>\n      <td>208536</td>\n    </tr>\n    <tr>\n      <th>8/31/20</th>\n      <td>68082</td>\n      <td>207653</td>\n    </tr>\n  </tbody>\n</table>\n<p>92 rows × 2 columns</p>\n</div>"
     },
     "metadata": {},
     "execution_count": 11
    }
   ],
   "source": [
    "recovered_csv = 'https://raw.githubusercontent.com/CSSEGISandData/COVID-19/master/csse_covid_19_data/csse_covid_19_time_series/time_series_covid19_recovered_global.csv'\n",
    "Recovered = clean_data(recovered_csv)\n",
    "Recovered"
   ]
  },
  {
   "cell_type": "code",
   "execution_count": 12,
   "metadata": {},
   "outputs": [
    {
     "output_type": "execute_result",
     "data": {
      "text/plain": "Country  Dominican Republic  Italy\n6/1/20                  502  33475\n6/2/20                  515  33530\n6/3/20                  516  33601\n6/4/20                  520  33689\n6/5/20                  525  33774\n...                     ...    ...\n8/27/20                1630  35463\n8/28/20                1648  35472\n8/29/20                1673  35473\n8/30/20                1681  35477\n8/31/20                1710  35483\n\n[92 rows x 2 columns]",
      "text/html": "<div>\n<style scoped>\n    .dataframe tbody tr th:only-of-type {\n        vertical-align: middle;\n    }\n\n    .dataframe tbody tr th {\n        vertical-align: top;\n    }\n\n    .dataframe thead th {\n        text-align: right;\n    }\n</style>\n<table border=\"1\" class=\"dataframe\">\n  <thead>\n    <tr style=\"text-align: right;\">\n      <th>Country</th>\n      <th>Dominican Republic</th>\n      <th>Italy</th>\n    </tr>\n  </thead>\n  <tbody>\n    <tr>\n      <th>6/1/20</th>\n      <td>502</td>\n      <td>33475</td>\n    </tr>\n    <tr>\n      <th>6/2/20</th>\n      <td>515</td>\n      <td>33530</td>\n    </tr>\n    <tr>\n      <th>6/3/20</th>\n      <td>516</td>\n      <td>33601</td>\n    </tr>\n    <tr>\n      <th>6/4/20</th>\n      <td>520</td>\n      <td>33689</td>\n    </tr>\n    <tr>\n      <th>6/5/20</th>\n      <td>525</td>\n      <td>33774</td>\n    </tr>\n    <tr>\n      <th>...</th>\n      <td>...</td>\n      <td>...</td>\n    </tr>\n    <tr>\n      <th>8/27/20</th>\n      <td>1630</td>\n      <td>35463</td>\n    </tr>\n    <tr>\n      <th>8/28/20</th>\n      <td>1648</td>\n      <td>35472</td>\n    </tr>\n    <tr>\n      <th>8/29/20</th>\n      <td>1673</td>\n      <td>35473</td>\n    </tr>\n    <tr>\n      <th>8/30/20</th>\n      <td>1681</td>\n      <td>35477</td>\n    </tr>\n    <tr>\n      <th>8/31/20</th>\n      <td>1710</td>\n      <td>35483</td>\n    </tr>\n  </tbody>\n</table>\n<p>92 rows × 2 columns</p>\n</div>"
     },
     "metadata": {},
     "execution_count": 12
    }
   ],
   "source": [
    "deaths_csv = 'https://github.com/CSSEGISandData/COVID-19/raw/master/csse_covid_19_data/csse_covid_19_time_series/time_series_covid19_deaths_global.csv'\n",
    "Deaths = clean_data(deaths_csv)\n",
    "Deaths"
   ]
  },
  {
   "cell_type": "markdown",
   "metadata": {},
   "source": [
    "## Getting the Differences"
   ]
  },
  {
   "cell_type": "code",
   "execution_count": 13,
   "metadata": {},
   "outputs": [
    {
     "output_type": "execute_result",
     "data": {
      "text/plain": "{'Cases': Country  Dominican Republic   Italy    Diff\n 6/1/20                17572  233197 -215625\n 6/2/20                17752  233515 -215763\n 6/3/20                18040  233836 -215796\n 6/4/20                18319  234013 -215694\n 6/5/20                18708  234531 -215823\n ...                     ...     ...     ...\n 8/27/20               92964  263949 -170985\n 8/28/20               93390  265409 -172019\n 8/29/20               93732  266853 -173121\n 8/30/20               94241  268218 -173977\n 8/31/20               94715  269214 -174499\n \n [92 rows x 3 columns],\n 'Recovered': Country  Dominican Republic   Italy    Diff\n 6/1/20                10893  158355 -147462\n 6/2/20                11075  160092 -149017\n 6/3/20                11224  160938 -149714\n 6/4/20                11474  161895 -150421\n 6/5/20                11736  163781 -152045\n ...                     ...     ...     ...\n 8/27/20               64347  206554 -142207\n 8/28/20               65285  206902 -141617\n 8/29/20               66320  208224 -141904\n 8/30/20               66776  208536 -141760\n 8/31/20               68082  207653 -139571\n \n [92 rows x 3 columns],\n 'Deaths': Country  Dominican Republic  Italy   Diff\n 6/1/20                  502  33475 -32973\n 6/2/20                  515  33530 -33015\n 6/3/20                  516  33601 -33085\n 6/4/20                  520  33689 -33169\n 6/5/20                  525  33774 -33249\n ...                     ...    ...    ...\n 8/27/20                1630  35463 -33833\n 8/28/20                1648  35472 -33824\n 8/29/20                1673  35473 -33800\n 8/30/20                1681  35477 -33796\n 8/31/20                1710  35483 -33773\n \n [92 rows x 3 columns]}"
     },
     "metadata": {},
     "execution_count": 13
    }
   ],
   "source": [
    "joint = {'Cases': Cases, 'Recovered': Recovered, 'Deaths': Deaths}\n",
    "for key in joint.keys():\n",
    "    item = joint[key]\n",
    "    item['Diff'] = item['Dominican Republic'] - item['Italy'] \n",
    "joint"
   ]
  },
  {
   "cell_type": "markdown",
   "metadata": {},
   "source": [
    "## Merged Table"
   ]
  },
  {
   "cell_type": "code",
   "execution_count": 14,
   "metadata": {
    "scrolled": true
   },
   "outputs": [
    {
     "output_type": "execute_result",
     "data": {
      "text/plain": "                     Cases                          Recovered                  \\\nCountry Dominican Republic   Italy    Diff Dominican Republic   Italy    Diff   \n6/1/20               17572  233197 -215625              10893  158355 -147462   \n6/2/20               17752  233515 -215763              11075  160092 -149017   \n6/3/20               18040  233836 -215796              11224  160938 -149714   \n6/4/20               18319  234013 -215694              11474  161895 -150421   \n6/5/20               18708  234531 -215823              11736  163781 -152045   \n...                    ...     ...     ...                ...     ...     ...   \n8/27/20              92964  263949 -170985              64347  206554 -142207   \n8/28/20              93390  265409 -172019              65285  206902 -141617   \n8/29/20              93732  266853 -173121              66320  208224 -141904   \n8/30/20              94241  268218 -173977              66776  208536 -141760   \n8/31/20              94715  269214 -174499              68082  207653 -139571   \n\n                    Deaths                     Active Cases                \nCountry Dominican Republic  Italy   Diff Dominican Republic  Italy   Diff  \n6/1/20                 502  33475 -32973               6177  41367 -35190  \n6/2/20                 515  33530 -33015               6162  39893 -33731  \n6/3/20                 516  33601 -33085               6300  39297 -32997  \n6/4/20                 520  33689 -33169               6325  38429 -32104  \n6/5/20                 525  33774 -33249               6447  36976 -30529  \n...                    ...    ...    ...                ...    ...    ...  \n8/27/20               1630  35463 -33833              26987  21932   5055  \n8/28/20               1648  35472 -33824              26457  23035   3422  \n8/29/20               1673  35473 -33800              25739  23156   2583  \n8/30/20               1681  35477 -33796              25784  24205   1579  \n8/31/20               1710  35483 -33773              24923  26078  -1155  \n\n[92 rows x 12 columns]",
      "text/html": "<div>\n<style scoped>\n    .dataframe tbody tr th:only-of-type {\n        vertical-align: middle;\n    }\n\n    .dataframe tbody tr th {\n        vertical-align: top;\n    }\n\n    .dataframe thead tr th {\n        text-align: left;\n    }\n</style>\n<table border=\"1\" class=\"dataframe\">\n  <thead>\n    <tr>\n      <th></th>\n      <th colspan=\"3\" halign=\"left\">Cases</th>\n      <th colspan=\"3\" halign=\"left\">Recovered</th>\n      <th colspan=\"3\" halign=\"left\">Deaths</th>\n      <th colspan=\"3\" halign=\"left\">Active Cases</th>\n    </tr>\n    <tr>\n      <th>Country</th>\n      <th>Dominican Republic</th>\n      <th>Italy</th>\n      <th>Diff</th>\n      <th>Dominican Republic</th>\n      <th>Italy</th>\n      <th>Diff</th>\n      <th>Dominican Republic</th>\n      <th>Italy</th>\n      <th>Diff</th>\n      <th>Dominican Republic</th>\n      <th>Italy</th>\n      <th>Diff</th>\n    </tr>\n  </thead>\n  <tbody>\n    <tr>\n      <th>6/1/20</th>\n      <td>17572</td>\n      <td>233197</td>\n      <td>-215625</td>\n      <td>10893</td>\n      <td>158355</td>\n      <td>-147462</td>\n      <td>502</td>\n      <td>33475</td>\n      <td>-32973</td>\n      <td>6177</td>\n      <td>41367</td>\n      <td>-35190</td>\n    </tr>\n    <tr>\n      <th>6/2/20</th>\n      <td>17752</td>\n      <td>233515</td>\n      <td>-215763</td>\n      <td>11075</td>\n      <td>160092</td>\n      <td>-149017</td>\n      <td>515</td>\n      <td>33530</td>\n      <td>-33015</td>\n      <td>6162</td>\n      <td>39893</td>\n      <td>-33731</td>\n    </tr>\n    <tr>\n      <th>6/3/20</th>\n      <td>18040</td>\n      <td>233836</td>\n      <td>-215796</td>\n      <td>11224</td>\n      <td>160938</td>\n      <td>-149714</td>\n      <td>516</td>\n      <td>33601</td>\n      <td>-33085</td>\n      <td>6300</td>\n      <td>39297</td>\n      <td>-32997</td>\n    </tr>\n    <tr>\n      <th>6/4/20</th>\n      <td>18319</td>\n      <td>234013</td>\n      <td>-215694</td>\n      <td>11474</td>\n      <td>161895</td>\n      <td>-150421</td>\n      <td>520</td>\n      <td>33689</td>\n      <td>-33169</td>\n      <td>6325</td>\n      <td>38429</td>\n      <td>-32104</td>\n    </tr>\n    <tr>\n      <th>6/5/20</th>\n      <td>18708</td>\n      <td>234531</td>\n      <td>-215823</td>\n      <td>11736</td>\n      <td>163781</td>\n      <td>-152045</td>\n      <td>525</td>\n      <td>33774</td>\n      <td>-33249</td>\n      <td>6447</td>\n      <td>36976</td>\n      <td>-30529</td>\n    </tr>\n    <tr>\n      <th>...</th>\n      <td>...</td>\n      <td>...</td>\n      <td>...</td>\n      <td>...</td>\n      <td>...</td>\n      <td>...</td>\n      <td>...</td>\n      <td>...</td>\n      <td>...</td>\n      <td>...</td>\n      <td>...</td>\n      <td>...</td>\n    </tr>\n    <tr>\n      <th>8/27/20</th>\n      <td>92964</td>\n      <td>263949</td>\n      <td>-170985</td>\n      <td>64347</td>\n      <td>206554</td>\n      <td>-142207</td>\n      <td>1630</td>\n      <td>35463</td>\n      <td>-33833</td>\n      <td>26987</td>\n      <td>21932</td>\n      <td>5055</td>\n    </tr>\n    <tr>\n      <th>8/28/20</th>\n      <td>93390</td>\n      <td>265409</td>\n      <td>-172019</td>\n      <td>65285</td>\n      <td>206902</td>\n      <td>-141617</td>\n      <td>1648</td>\n      <td>35472</td>\n      <td>-33824</td>\n      <td>26457</td>\n      <td>23035</td>\n      <td>3422</td>\n    </tr>\n    <tr>\n      <th>8/29/20</th>\n      <td>93732</td>\n      <td>266853</td>\n      <td>-173121</td>\n      <td>66320</td>\n      <td>208224</td>\n      <td>-141904</td>\n      <td>1673</td>\n      <td>35473</td>\n      <td>-33800</td>\n      <td>25739</td>\n      <td>23156</td>\n      <td>2583</td>\n    </tr>\n    <tr>\n      <th>8/30/20</th>\n      <td>94241</td>\n      <td>268218</td>\n      <td>-173977</td>\n      <td>66776</td>\n      <td>208536</td>\n      <td>-141760</td>\n      <td>1681</td>\n      <td>35477</td>\n      <td>-33796</td>\n      <td>25784</td>\n      <td>24205</td>\n      <td>1579</td>\n    </tr>\n    <tr>\n      <th>8/31/20</th>\n      <td>94715</td>\n      <td>269214</td>\n      <td>-174499</td>\n      <td>68082</td>\n      <td>207653</td>\n      <td>-139571</td>\n      <td>1710</td>\n      <td>35483</td>\n      <td>-33773</td>\n      <td>24923</td>\n      <td>26078</td>\n      <td>-1155</td>\n    </tr>\n  </tbody>\n</table>\n<p>92 rows × 12 columns</p>\n</div>"
     },
     "metadata": {},
     "execution_count": 14
    }
   ],
   "source": [
    "joint = pd.concat(joint, axis=1)\n",
    "\n",
    "\n",
    "for s in ['Dominican Republic', 'Italy', 'Diff']:\n",
    "    joint[('Active Cases', s)] = joint[('Cases', s)] - joint[('Deaths', s)] - joint[('Recovered', s)]\n",
    "joint"
   ]
  },
  {
   "cell_type": "markdown",
   "metadata": {},
   "source": [
    "## Sources\n",
    "COVID-19 Data Repository by the Center for Systems Science and Engineering (CSSE) at Johns Hopkins University<br>\n",
    "https://github.com/CSSEGISandData/COVID-19/blob/master/csse_covid_19_data/csse_covid_19_time_series/time_series_covid19_confirmed_global.csv\n",
    "https://github.com/CSSEGISandData/COVID-19/blob/master/csse_covid_19_data/csse_covid_19_time_series/time_series_covid19_recovered_global.csv\n",
    "https://github.com/CSSEGISandData/COVID-19/blob/master/csse_covid_19_data/csse_covid_19_time_series/time_series_covid19_deaths_global.csv\n"
   ]
  },
  {
   "cell_type": "markdown",
   "metadata": {},
   "source": [
    "## Contributions\n",
    "ALDAY, Kraemon Joshua - Differences<br>\n",
    "GARCIA, Enrico Joaquin - Active Cases<br>\n",
    "QUITELES, Sean Argie - Cases, Recovered<br>\n",
    "REYES, Justin Rupert F. - clean_data(csv_file) function"
   ]
  }
 ],
 "metadata": {
  "kernelspec": {
   "display_name": "Python 3.7.6 64-bit ('base': conda)",
   "language": "python",
   "name": "python_defaultSpec_1599540674751"
  },
  "language_info": {
   "codemirror_mode": {
    "name": "ipython",
    "version": 3
   },
   "file_extension": ".py",
   "mimetype": "text/x-python",
   "name": "python",
   "nbconvert_exporter": "python",
   "pygments_lexer": "ipython3",
   "version": "3.7.6-final"
  }
 },
 "nbformat": 4,
 "nbformat_minor": 4
}