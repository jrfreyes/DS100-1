{
 "cells": [
  {
   "cell_type": "markdown",
   "metadata": {},
   "source": [
    "Make a Python code for the following:\n",
    "\n",
    "1. Make a simple calculator program about temperature conversion (from Celsius to Fahrenheit and vice-versa) with decimal number in the input.\n",
    "\n",
    "2.  Write a Python code that shows the Fibonacci sequence up to 20 values.\n",
    "\n",
    "3.  Create a Python program for displaying the fourth power of numbers from 0 - 50.\n",
    "\n",
    "\n",
    "Submit only one Jupyter Notebook (.ipynb) file containing your answers to the above items."
   ]
  },
  {
   "cell_type": "markdown",
   "metadata": {},
   "source": [
    "## 1"
   ]
  },
  {
   "cell_type": "code",
   "execution_count": 1,
   "metadata": {},
   "outputs": [
    {
     "name": "stdout",
     "output_type": "stream",
     "text": [
      "Enter a value in Celsius to be converted in Fahrenheit: 32\n",
      "Celcius: 32.0 Fahrenheit 89.6\n",
      "Enter a value in Fahrenheit to be converted in Celsius: 12\n",
      "Fahrenheit: 12.0 Celsius -11.11111111111111\n"
     ]
    }
   ],
   "source": [
    "def to_Celsius(temp):\n",
    "    return (temp - 32) * 5 / 9\n",
    "def to_Fahrenheit(temp):\n",
    "    return temp * 9 / 5 + 32\n",
    "                  \n",
    "x = float(input('Enter a value in Celsius to be converted in Fahrenheit: '))\n",
    "print(f'Celcius: {x} Fahrenheit {to_Fahrenheit(x)}')\n",
    "x = float(input('Enter a value in Fahrenheit to be converted in Celsius: '))\n",
    "print(f'Fahrenheit: {x} Celsius {to_Celsius(x)}')"
   ]
  },
  {
   "cell_type": "markdown",
   "metadata": {},
   "source": [
    "## 2"
   ]
  },
  {
   "cell_type": "code",
   "execution_count": 2,
   "metadata": {},
   "outputs": [],
   "source": [
    "def fibs(n):\n",
    "    if n <= 0:\n",
    "        raise ValueError\n",
    "    if n == 1:\n",
    "        return [0]\n",
    "    output = [0, 1]\n",
    "    for i in range(1, n-1):\n",
    "        output.append(output[i]+output[i-1])\n",
    "    return output"
   ]
  },
  {
   "cell_type": "code",
   "execution_count": 11,
   "metadata": {},
   "outputs": [
    {
     "data": {
      "text/plain": [
       "[0,\n",
       " 1,\n",
       " 1,\n",
       " 2,\n",
       " 3,\n",
       " 5,\n",
       " 8,\n",
       " 13,\n",
       " 21,\n",
       " 34,\n",
       " 55,\n",
       " 89,\n",
       " 144,\n",
       " 233,\n",
       " 377,\n",
       " 610,\n",
       " 987,\n",
       " 1597,\n",
       " 2584,\n",
       " 4181]"
      ]
     },
     "execution_count": 11,
     "metadata": {},
     "output_type": "execute_result"
    }
   ],
   "source": [
    "fibs(20)"
   ]
  },
  {
   "cell_type": "markdown",
   "metadata": {},
   "source": [
    "## 3"
   ]
  },
  {
   "cell_type": "code",
   "execution_count": 4,
   "metadata": {},
   "outputs": [
    {
     "data": {
      "text/plain": [
       "[0,\n",
       " 1,\n",
       " 16,\n",
       " 81,\n",
       " 256,\n",
       " 625,\n",
       " 1296,\n",
       " 2401,\n",
       " 4096,\n",
       " 6561,\n",
       " 10000,\n",
       " 14641,\n",
       " 20736,\n",
       " 28561,\n",
       " 38416,\n",
       " 50625,\n",
       " 65536,\n",
       " 83521,\n",
       " 104976,\n",
       " 130321,\n",
       " 160000,\n",
       " 194481,\n",
       " 234256,\n",
       " 279841,\n",
       " 331776,\n",
       " 390625,\n",
       " 456976,\n",
       " 531441,\n",
       " 614656,\n",
       " 707281,\n",
       " 810000,\n",
       " 923521,\n",
       " 1048576,\n",
       " 1185921,\n",
       " 1336336,\n",
       " 1500625,\n",
       " 1679616,\n",
       " 1874161,\n",
       " 2085136,\n",
       " 2313441,\n",
       " 2560000,\n",
       " 2825761,\n",
       " 3111696,\n",
       " 3418801,\n",
       " 3748096,\n",
       " 4100625,\n",
       " 4477456,\n",
       " 4879681,\n",
       " 5308416,\n",
       " 5764801,\n",
       " 6250000]"
      ]
     },
     "execution_count": 4,
     "metadata": {},
     "output_type": "execute_result"
    }
   ],
   "source": [
    "[x**4 for x in range(51)]"
   ]
  }
 ],
 "metadata": {
  "kernelspec": {
   "display_name": "Python 3",
   "language": "python",
   "name": "python3"
  },
  "language_info": {
   "codemirror_mode": {
    "name": "ipython",
    "version": 3
   },
   "file_extension": ".py",
   "mimetype": "text/x-python",
   "name": "python",
   "nbconvert_exporter": "python",
   "pygments_lexer": "ipython3",
   "version": "3.7.6"
  }
 },
 "nbformat": 4,
 "nbformat_minor": 4
}
